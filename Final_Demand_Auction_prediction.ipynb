{
 "cells": [
  {
   "cell_type": "code",
   "execution_count": null,
   "id": "ced503f9-2eae-4f13-ad1d-f6ad54b54a3e",
   "metadata": {},
   "outputs": [],
   "source": [
    "import pandas as pd\n",
    "import numpy as np\n",
    "import seaborn as sns\n",
    "import matplotlib.pyplot as plt\n",
    "%matplotlib inline\n",
    "import time\n",
    "from sklearn.metrics import accuracy_score,mean_squared_error,mean_absolute_error\n",
    "from sklearn.ensemble import RandomForestRegressor\n",
    "from sklearn.tree import DecisionTreeRegressor\n",
    "from sklearn.preprocessing import StandardScaler\n",
    "from sklearn.svm import SVR\n",
    "from sklearn.model_selection import train_test_split\n",
    "from sklearn.preprocessing import StandardScaler\n",
    "from sklearn.feature_selection import SelectKBest\n",
    "from tensorflow.keras.models import Sequential\n",
    "from tensorflow.keras.layers import Dense\n",
    "from sklearn import tree\n",
    "import graphviz\n",
    "import shap\n",
    "import warnings\n",
    "warnings.filterwarnings('ignore')\n",
    "\n",
    "data = pd.read_csv('Auction_and_demand_data_MAIN.csv')"
   ]
  },
  {
   "cell_type": "code",
   "execution_count": null,
   "id": "3b1fdd4f-2915-4e5d-b635-3f9c46e8bbb6",
   "metadata": {},
   "outputs": [],
   "source": [
    "data.shape"
   ]
  },
  {
   "cell_type": "code",
   "execution_count": null,
   "id": "47bacf38-af75-4efe-8e9f-c3969eea96dd",
   "metadata": {},
   "outputs": [],
   "source": [
    "data.info()"
   ]
  },
  {
   "cell_type": "code",
   "execution_count": null,
   "id": "13e1dec7-9a94-44ee-bcc2-27ba897f3653",
   "metadata": {},
   "outputs": [],
   "source": [
    "sns.jointplot(x='NSL_FLOW',y='Average base prices',data=data,kind='reg')"
   ]
  },
  {
   "cell_type": "markdown",
   "id": "79269d36-817b-4610-ac36-84c3a712e2a4",
   "metadata": {},
   "source": [
    "#  ploting the flow of data in time"
   ]
  },
  {
   "cell_type": "code",
   "execution_count": null,
   "id": "ce8eafd4-8df1-4214-a801-9426e26f4ad9",
   "metadata": {},
   "outputs": [],
   "source": [
    "data['Date'] = pd.to_datetime(data['Date'], utc=True, infer_datetime_format=True)\n",
    "data = data.set_index('Date')"
   ]
  },
  {
   "cell_type": "code",
   "execution_count": null,
   "id": "752fb48f-91b6-45ab-83e3-91c04c08c09d",
   "metadata": {},
   "outputs": [],
   "source": [
    "def plot_series(df=None, column=None, series=pd.Series([]), \n",
    "                label=None, ylabel=None, title=None, start=0, end=None):\n",
    "    sns.set()\n",
    "    fig, ax = plt.subplots(figsize=(30, 12))\n",
    "    ax.set_xlabel('Time', fontsize=16)\n",
    "    if column:\n",
    "        ax.plot(df[column][start:end], label=label)\n",
    "        ax.set_ylabel(ylabel, fontsize=16)\n",
    "    if series.any():\n",
    "        ax.plot(series, label=label)\n",
    "        ax.set_ylabel(ylabel, fontsize=16)\n",
    "    if label:\n",
    "        ax.legend(fontsize=16)\n",
    "    if title:\n",
    "        ax.set_title(title, fontsize=24)\n",
    "    ax.grid(True)\n",
    "    return ax"
   ]
  },
  {
   "cell_type": "code",
   "execution_count": null,
   "id": "3e5a6535-730e-46af-93cc-1d30a7580bca",
   "metadata": {},
   "outputs": [],
   "source": [
    "ax = plot_series(df=data, column='1_Hour', ylabel='Average base prices',\n",
    "                 title='cost of price per hour')\n",
    "plt.show()"
   ]
  },
  {
   "cell_type": "markdown",
   "id": "7dab5508-75c5-4c16-a6d6-4a23773b187e",
   "metadata": {},
   "source": [
    "# Checking for correlation between the target (Average base price) and other features"
   ]
  },
  {
   "cell_type": "code",
   "execution_count": null,
   "id": "e9217f05-163d-4b3e-bb72-953c44c75499",
   "metadata": {},
   "outputs": [],
   "source": [
    "data.corr()\n",
    "data.corr().iloc[:,24:]"
   ]
  },
  {
   "cell_type": "code",
   "execution_count": null,
   "id": "2ec00768-47c8-4d7f-9091-ce90964e7feb",
   "metadata": {},
   "outputs": [],
   "source": [
    "data = data.dropna(axis=0)"
   ]
  },
  {
   "cell_type": "code",
   "execution_count": null,
   "id": "305dc645-4d8c-41b0-980c-50afb1a6a382",
   "metadata": {},
   "outputs": [],
   "source": [
    "data.columns"
   ]
  },
  {
   "cell_type": "code",
   "execution_count": null,
   "id": "6f8e8eb5-9fda-4c77-901b-bbde157b4e23",
   "metadata": {},
   "outputs": [],
   "source": [
    "data['NSL_FLOW'].value_counts()"
   ]
  },
  {
   "cell_type": "code",
   "execution_count": null,
   "id": "71bd72f1",
   "metadata": {},
   "outputs": [],
   "source": [
    "corr_matrix = data.corr().abs()\n",
    "corr_matrix"
   ]
  },
  {
   "cell_type": "code",
   "execution_count": null,
   "id": "d9fdccc1-773f-4b37-891c-9eec8303b396",
   "metadata": {},
   "outputs": [],
   "source": [
    "data['Average base prices'].isna().sum()"
   ]
  },
  {
   "cell_type": "code",
   "execution_count": null,
   "id": "31b7d6f9",
   "metadata": {},
   "outputs": [],
   "source": [
    "corr1 = data.corr('pearson')[['Average base prices']].sort_values(by='Average base prices', ascending=False)\n",
    "(corr1 > 0.70).sum()"
   ]
  },
  {
   "cell_type": "markdown",
   "id": "684b221b-fff0-48d2-9fc2-1d2faecf8c9f",
   "metadata": {},
   "source": [
    "# Manually selecting the features for prediction"
   ]
  },
  {
   "cell_type": "code",
   "execution_count": null,
   "id": "5ce285f8-a7f5-429d-9623-25efe490d1b3",
   "metadata": {},
   "outputs": [],
   "source": [
    "X = data.drop(columns=['PUMP_STORAGE_PUMPING','IFA_FLOW','IFA2_FLOW','BRITNED_FLOW','MOYLE_FLOW','EAST_WEST_FLOW',\n",
    "                      'NEMO_FLOW','ELECLINK_FLOW','Average base prices','Week','Month','ND','TSD','ENGLAND_WALES_DEMAND',\n",
    "                       'EMBEDDED_WIND_GENERATION','EMBEDDED_WIND_CAPACITY','EMBEDDED_SOLAR_GENERATION','EMBEDDED_SOLAR_CAPACITY','NON_BM_STOR'])\n",
    "y = data['Average base prices']"
   ]
  },
  {
   "cell_type": "code",
   "execution_count": null,
   "id": "fa2017b6-a968-48d8-bd1e-af35b359ac57",
   "metadata": {},
   "outputs": [],
   "source": [
    "d = data[['1_Hour', '2_Hour', '3_Hour', '4_Hour', '5_Hour', '6_Hour', '7_Hour','8_Hour', '9_Hour', '10_Hour', '11_Hour', '12_Hour', '13_Hour', '14_Hour', '15_Hour', '16_Hour', '17_Hour', '18_Hour', '19_Hour', '20_Hour', '21_Hour', '22_Hour', '23_Hour', '24_Hour', 'NSL_FLOW','Average base prices']]"
   ]
  },
  {
   "cell_type": "code",
   "execution_count": null,
   "id": "58b62a50-a6e1-4a62-892c-4260ee098ca2",
   "metadata": {},
   "outputs": [],
   "source": [
    "fig = plt.figure(figsize=(30,20))\n",
    "sns.heatmap(d.corr(),cmap='icefire_r',linewidths=0.30,annot=True,)\n",
    "fig.savefig(\"Correlation of features\", bbox_inches='tight', dpi=600)"
   ]
  },
  {
   "cell_type": "code",
   "execution_count": null,
   "id": "e3e6eacf",
   "metadata": {},
   "outputs": [],
   "source": [
    "X.shape"
   ]
  },
  {
   "cell_type": "code",
   "execution_count": null,
   "id": "37d70c27-83b8-4124-baca-e347332b688a",
   "metadata": {},
   "outputs": [],
   "source": [
    "X.describe()"
   ]
  },
  {
   "cell_type": "markdown",
   "id": "6997211e-8d93-4f3b-883b-18969484ee64",
   "metadata": {},
   "source": [
    "# checking the dimension of the data with plot"
   ]
  },
  {
   "cell_type": "code",
   "execution_count": null,
   "id": "a4aa76be-14cf-4505-9d54-25e574b73269",
   "metadata": {},
   "outputs": [],
   "source": [
    "data.plot(kind='line', x='1_Hour', y='Average base prices');\n",
    "data.plot(kind='line', x='NSL_FLOW', y='Average base prices');"
   ]
  },
  {
   "cell_type": "code",
   "execution_count": null,
   "id": "5c0b553d",
   "metadata": {},
   "outputs": [],
   "source": [
    "sns.boxplot(x= data['2_Hour'])"
   ]
  },
  {
   "cell_type": "code",
   "execution_count": null,
   "id": "9451772e-9253-4973-95b4-f3dc36a27174",
   "metadata": {},
   "outputs": [],
   "source": [
    "X.info()"
   ]
  },
  {
   "cell_type": "code",
   "execution_count": null,
   "id": "b20fa9d3-e4b4-48d3-a95b-b4741e8de4ff",
   "metadata": {},
   "outputs": [],
   "source": [
    "# This will take time to plot beacuse it will plot each feature against others as to check for relationship betwwen that feature and others in the dataset\n",
    "\n",
    "\n",
    "sns.pairplot(X, markers=\"+\", kind='reg',\n",
    "             diag_kind=\"auto\",\n",
    "             plot_kws={'line_kws':{'color':'#aec6cf'},\n",
    "                       'scatter_kws': {'alpha': 0.5,\n",
    "                                       'color': '#82ad32'}},\n",
    "             diag_kws= {'color': '#82ad32'})\n"
   ]
  },
  {
   "cell_type": "markdown",
   "id": "a2cdcf71-40b5-4087-abfc-06d3dcebc67a",
   "metadata": {},
   "source": [
    "# standardizing the data in other to bring all the unit to the same range"
   ]
  },
  {
   "cell_type": "markdown",
   "id": "d448e948",
   "metadata": {},
   "source": [
    "learnt and adapted from https://scikit-learn.org/stable/modules/neural_networks_supervised.html#regression"
   ]
  },
  {
   "cell_type": "code",
   "execution_count": null,
   "id": "1de1a2ea-dfde-4129-8024-0f43283c9e8d",
   "metadata": {},
   "outputs": [],
   "source": [
    "scaler = StandardScaler()\n",
    "scaler.fit_transform(X)"
   ]
  },
  {
   "cell_type": "markdown",
   "id": "530e4247-358b-418b-ae74-731208bd9b89",
   "metadata": {},
   "source": [
    "# Spliting the data"
   ]
  },
  {
   "cell_type": "code",
   "execution_count": null,
   "id": "4d37e307-338d-4235-bd75-30f9ac0cf337",
   "metadata": {},
   "outputs": [],
   "source": [
    "x_train,x_test,y_train,y_test = train_test_split(X,y,test_size=0.2,random_state=2)"
   ]
  },
  {
   "cell_type": "code",
   "execution_count": null,
   "id": "f8930eb5-355d-4a3e-a42d-a688790f45af",
   "metadata": {},
   "outputs": [],
   "source": [
    "print(f'x_train: {x_train.shape}, {y_train.shape}')\n",
    "print(f'x_train: {x_test.shape}, {y_test.shape}')"
   ]
  },
  {
   "cell_type": "markdown",
   "id": "7eb13110",
   "metadata": {},
   "source": [
    "Random Forest Regressor:https://scikit-learn.org/stable/modules/generated/sklearn.ensemble.RandomForestRegressor.html#sklearn.ensemble.RandomForestRegressor"
   ]
  },
  {
   "cell_type": "markdown",
   "id": "8412ae1f-fb0e-4597-9e04-0ac3363e2a5f",
   "metadata": {},
   "source": [
    "# Using RandomForest to train the model "
   ]
  },
  {
   "cell_type": "code",
   "execution_count": null,
   "id": "78f1437d-0738-4b0a-8987-1857a948833e",
   "metadata": {},
   "outputs": [],
   "source": [
    "model_1 = RandomForestRegressor(random_state =8)"
   ]
  },
  {
   "cell_type": "markdown",
   "id": "28a3617f-59bd-4c22-b39d-606970cf52ae",
   "metadata": {},
   "source": [
    "# Fitting the model"
   ]
  },
  {
   "cell_type": "code",
   "execution_count": null,
   "id": "e7487818-dc7d-4604-aea2-6320e851e69b",
   "metadata": {},
   "outputs": [],
   "source": [
    "model_1.fit(x_train,y_train)"
   ]
  },
  {
   "cell_type": "code",
   "execution_count": null,
   "id": "de3f488c-e073-48e2-a003-312efa6dad64",
   "metadata": {},
   "outputs": [],
   "source": [
    "model_1.score(x_train,y_train)"
   ]
  },
  {
   "cell_type": "code",
   "execution_count": null,
   "id": "55bb6ca5-e194-4b31-b2c8-0e7850bfc88f",
   "metadata": {},
   "outputs": [],
   "source": [
    "model_1.score(x_test,y_test)\n"
   ]
  },
  {
   "cell_type": "code",
   "execution_count": null,
   "id": "24ace4e7-6341-4c6f-b1aa-d9799c65872f",
   "metadata": {},
   "outputs": [],
   "source": [
    "fig = plt.figure(figsize=(20,10))\n",
    "feat_importances = pd.DataFrame(model_1.feature_importances_, index=x_train.columns, columns=[\"Importance\"])\n",
    "feat_importances.sort_values(by='Importance', ascending=False, inplace=True)\n",
    "feat_importances.plot(kind='bar', figsize=(8,6),title='Random Forest Feature Importance')\n",
    "fig.savefig(\"Random Forest Feature Importances.png\", bbox_inches='tight', dpi=600,)"
   ]
  },
  {
   "cell_type": "code",
   "execution_count": null,
   "id": "d50e4a8d-f689-4e82-ae00-65e9aeb1fa52",
   "metadata": {},
   "outputs": [],
   "source": [
    "y_pred= model_1.predict(x_test)\n",
    "y_pred"
   ]
  },
  {
   "cell_type": "code",
   "execution_count": null,
   "id": "d2aa9eb9-79ce-4627-abe5-63a1c07d7f3d",
   "metadata": {},
   "outputs": [],
   "source": [
    "mean_squared_error(y_test,y_pred,squared=False)"
   ]
  },
  {
   "cell_type": "code",
   "execution_count": null,
   "id": "856713af-e838-43b0-a02d-37b676ff19d9",
   "metadata": {},
   "outputs": [],
   "source": [
    "print ('Random Forest')\n",
    "print(\"MAE:\",mean_absolute_error(y_test,y_pred))\n",
    "print (\"MSE:\",mean_squared_error(y_test,y_pred))\n",
    "print(\"RMSE:\",np.sqrt(mean_squared_error(y_test,y_pred)))"
   ]
  },
  {
   "cell_type": "markdown",
   "id": "ef716cfa-beb3-43ca-9012-d34114db277b",
   "metadata": {},
   "source": [
    "# Using Feature selection to get us the best features to use for prediction"
   ]
  },
  {
   "cell_type": "code",
   "execution_count": null,
   "id": "cbd48f0a-c09e-4e01-8afa-3aca3aab9306",
   "metadata": {},
   "outputs": [],
   "source": [
    "sel = SelectKBest(k=12)"
   ]
  },
  {
   "cell_type": "code",
   "execution_count": null,
   "id": "b0fb902a-4ce1-41bf-b2de-f69d102a273c",
   "metadata": {},
   "outputs": [],
   "source": [
    "sel.fit(X,y)"
   ]
  },
  {
   "cell_type": "code",
   "execution_count": null,
   "id": "4f0dae48-5ca5-4316-8477-a2256a6bca75",
   "metadata": {},
   "outputs": [],
   "source": [
    "sel.get_support()"
   ]
  },
  {
   "cell_type": "code",
   "execution_count": null,
   "id": "9c4c9012-c35e-4e79-9f54-7259f3fd2922",
   "metadata": {},
   "outputs": [],
   "source": [
    "X.columns[sel.get_support()]"
   ]
  },
  {
   "cell_type": "code",
   "execution_count": null,
   "id": "b8d33045-be9c-4363-a418-f110d704e938",
   "metadata": {},
   "outputs": [],
   "source": [
    "new_x = data[['4_Hour', '7_Hour', '14_Hour','15_Hour', '16_Hour', '17_Hour', '18_Hour',\n",
    "       '19_Hour','20_Hour', '21_Hour', '22_Hour','NSL_FLOW']]"
   ]
  },
  {
   "cell_type": "code",
   "execution_count": null,
   "id": "1a44dbde-687f-4762-bf95-4874577e477a",
   "metadata": {},
   "outputs": [],
   "source": [
    "new_x.head()"
   ]
  },
  {
   "cell_type": "code",
   "execution_count": null,
   "id": "ee982c1e-1137-43ba-a785-06e9950798a1",
   "metadata": {},
   "outputs": [],
   "source": [
    "new_x_train,new_x_test,new_y_train,new_y_test = train_test_split(new_x,y,test_size=0.2,random_state=2)"
   ]
  },
  {
   "cell_type": "markdown",
   "id": "104d20f6-19cc-4620-bce5-255396e52990",
   "metadata": {},
   "source": [
    "# Buiding Decision Tree Model for prediction"
   ]
  },
  {
   "cell_type": "markdown",
   "id": "ee074eef",
   "metadata": {},
   "source": [
    "Decision Tree Regressor:https://scikit-learn.org/stable/modules/generated/sklearn.tree.DecisionTreeRegressor.html#sklearn.tree.DecisionTreeRegressor"
   ]
  },
  {
   "cell_type": "code",
   "execution_count": null,
   "id": "b0a66773-a15b-4c97-a048-ada13fa780b3",
   "metadata": {},
   "outputs": [],
   "source": [
    "model_2 = DecisionTreeRegressor(random_state=4, max_depth=6)"
   ]
  },
  {
   "cell_type": "code",
   "execution_count": null,
   "id": "ccd40178-4625-4bf1-8574-52748769dc5c",
   "metadata": {},
   "outputs": [],
   "source": [
    "model_2.fit(new_x_train,new_y_train)"
   ]
  },
  {
   "cell_type": "code",
   "execution_count": null,
   "id": "edc23350-d07b-4fa5-ae7c-bfee7956ef8d",
   "metadata": {},
   "outputs": [],
   "source": [
    "new_y_pred= model_2.predict(new_x_test)\n",
    "new_y_pred"
   ]
  },
  {
   "cell_type": "code",
   "execution_count": null,
   "id": "cac333aa-d7e5-4399-b131-f73190abfc62",
   "metadata": {},
   "outputs": [],
   "source": [
    "print (mean_squared_error(y_test,new_y_pred,squared=False))\n"
   ]
  },
  {
   "cell_type": "code",
   "execution_count": null,
   "id": "89c2da64-e35b-4e33-a8ee-7c5c92a5a806",
   "metadata": {},
   "outputs": [],
   "source": [
    "fig = plt.figure(figsize=(20,10))\n",
    "feat_importances = pd.DataFrame(model_2.feature_importances_, index=new_x_train.columns, columns=[\"Importance\"])\n",
    "feat_importances.sort_values(by='Importance', ascending=False, inplace=True)\n",
    "feat_importances.plot(kind='barh', figsize=(8,6),color='red', title='DecisionTree Feature Importance')\n",
    "fig.savefig(\"DecisionTree Feature Importances.png\", bbox_inches='tight', dpi=600)"
   ]
  },
  {
   "cell_type": "code",
   "execution_count": null,
   "id": "f28cc633-918d-4f76-a307-3ebcc3b915b8",
   "metadata": {},
   "outputs": [],
   "source": [
    "print ('Decision Tree')\n",
    "print ('Test score', model_2.score(new_x_train,new_y_train))\n",
    "print ('Train score', model_2.score(new_x_test,new_y_test))"
   ]
  },
  {
   "cell_type": "code",
   "execution_count": null,
   "id": "43a9a067-ad7b-4ed4-945e-ef935d1b320b",
   "metadata": {},
   "outputs": [],
   "source": [
    "print ('Decision Tree')\n",
    "print(\"MAE:\",mean_absolute_error(y_test,new_y_pred))\n",
    "print (\"MSE:\",mean_squared_error(y_test,new_y_pred))\n",
    "print(\"RMSE:\",np.sqrt(mean_squared_error(y_test,new_y_pred)))"
   ]
  },
  {
   "cell_type": "markdown",
   "id": "d77837d4-5aa9-48c0-9bb5-00774d9f20c9",
   "metadata": {},
   "source": [
    "# Using Support Vector Regression"
   ]
  },
  {
   "cell_type": "code",
   "execution_count": null,
   "id": "6858ec6b-bc17-4ba1-b3c9-99a0b4a6dc60",
   "metadata": {},
   "outputs": [],
   "source": [
    "model_3 = SVR()\n",
    "model_3.fit(x_train,y_train)"
   ]
  },
  {
   "cell_type": "code",
   "execution_count": null,
   "id": "741c25e7-021b-46dd-90ca-aebf79c5dc7d",
   "metadata": {},
   "outputs": [],
   "source": [
    "model_3.score(x_train,y_train)"
   ]
  },
  {
   "cell_type": "code",
   "execution_count": null,
   "id": "867ad0a3-7738-4e0e-ab99-c61b610a15e5",
   "metadata": {},
   "outputs": [],
   "source": [
    "model_3.score(x_test,y_test)"
   ]
  },
  {
   "cell_type": "code",
   "execution_count": null,
   "id": "6263ece7-3e68-4289-809c-b5fb4157557d",
   "metadata": {},
   "outputs": [],
   "source": [
    "from sklearn.inspection import permutation_importance\n",
    "import matplotlib. pyplot as pyplot\n",
    "results = permutation_importance(model_3, x_train, y_train, scoring='neg_mean_squared_error')\n",
    "# get importance\n",
    "importance = results.importances_mean\n",
    "# summarize feature importance\n",
    "for i,v in enumerate(importance):\n",
    "    print('Feature: %0d, Score: %.5f' % (i,v))\n",
    "# plot feature importance\n",
    "fig = plt.figure(figsize=(20,10))\n",
    "plt.title('SVR Feature Permutation Importance')\n",
    "pyplot.bar([x for x in range(len(importance))], importance)\n",
    "pyplot.show()\n",
    "fig.savefig(\"SVR Feature Permutation Importance .png\", bbox_inches='tight', dpi=600)"
   ]
  },
  {
   "cell_type": "code",
   "execution_count": null,
   "id": "6a43017a-349c-4b6e-8e8e-07039d942ee2",
   "metadata": {},
   "outputs": [],
   "source": [
    "y_pred_3= model_3.predict(x_test)\n",
    "y_pred_3"
   ]
  },
  {
   "cell_type": "code",
   "execution_count": null,
   "id": "6f27f415-ec3d-4eee-a336-91eddaa77c3e",
   "metadata": {},
   "outputs": [],
   "source": [
    "mean_squared_error(y_test,y_pred_3,squared=False)"
   ]
  },
  {
   "cell_type": "code",
   "execution_count": null,
   "id": "7d08691f-ad0d-4a63-958e-5d8509529ea7",
   "metadata": {},
   "outputs": [],
   "source": [
    "print ('SVR')\n",
    "print(\"MAE:\",mean_absolute_error(y_test,y_pred_3))\n",
    "print (\"MSE:\",mean_squared_error(y_test,y_pred_3))\n",
    "print(\"RMSE:\",np.sqrt(mean_squared_error(y_test,y_pred_3)))"
   ]
  },
  {
   "cell_type": "markdown",
   "id": "f95c67ca-1c2a-461f-8647-e18e60c7dded",
   "metadata": {},
   "source": [
    "# Explaining the model with shap model on Randomforest "
   ]
  },
  {
   "cell_type": "markdown",
   "id": "1df81f49",
   "metadata": {},
   "source": [
    "for more understanding on explainable AI you can check out the link\n",
    "https://medium.com/dataman-in-ai/explain-your-model-with-the-shap-values-bc36aac4de3d"
   ]
  },
  {
   "cell_type": "code",
   "execution_count": null,
   "id": "311eb54d-45b9-4277-b62c-dca65ab2e7b2",
   "metadata": {},
   "outputs": [],
   "source": [
    "explainer_model_1 = shap.TreeExplainer(model_1)"
   ]
  },
  {
   "cell_type": "code",
   "execution_count": null,
   "id": "82ce013b-06c4-4fde-9067-4775ecf323f5",
   "metadata": {},
   "outputs": [],
   "source": [
    "base_value_1 = explainer_model_1.expected_value\n",
    "base_value_1"
   ]
  },
  {
   "cell_type": "code",
   "execution_count": null,
   "id": "fc23e86d-b55c-4d2c-8352-3c3e22aa8a08",
   "metadata": {},
   "outputs": [],
   "source": [
    "shap_value_1 = explainer_model_1.shap_values(x_test)"
   ]
  },
  {
   "cell_type": "code",
   "execution_count": null,
   "id": "00acfe34-1008-4297-a745-e21193a9d8ae",
   "metadata": {},
   "outputs": [],
   "source": [
    "figure = plt.figure()\n",
    "shap.summary_plot(shap_value_1, x_test)\n",
    "figure.savefig(\"summary_plot1.png\", bbox_inches='tight', dpi=600)"
   ]
  },
  {
   "cell_type": "code",
   "execution_count": null,
   "id": "cecba5b1-b8da-4309-8c9a-8e9915286d51",
   "metadata": {},
   "outputs": [],
   "source": [
    "shap.dependence_plot(\"19_Hour\", shap_value_1, x_test)"
   ]
  },
  {
   "cell_type": "code",
   "execution_count": null,
   "id": "f99818b6-530e-404d-808b-35fd43719d6b",
   "metadata": {},
   "outputs": [],
   "source": [
    "shap.force_plot(explainer_model_1.expected_value, shap_value_1[99,:], x_test.iloc[99,:],matplotlib=True)"
   ]
  },
  {
   "cell_type": "code",
   "execution_count": null,
   "id": "18944211-98d9-44fa-ac04-fccd8acd2c98",
   "metadata": {},
   "outputs": [],
   "source": [
    "print(model_1.feature_importances_)\n",
    "importances = model_1.feature_importances_\n",
    "indices = np.argsort(importances)\n",
    "features = x_train.columns\n",
    "plt.figure(figsize=(30,20))\n",
    "plt.title('Feature Importances')\n",
    "plt.barh(range(len(indices)), importances[indices], color='r', align='center')\n",
    "plt.yticks(range(len(indices)), [features[i] for i in indices])\n",
    "plt.xlabel('Relative Importance')\n",
    "plt.show()\n"
   ]
  },
  {
   "cell_type": "code",
   "execution_count": null,
   "id": "c662f20c-3247-4b26-8ac3-87ed3ed3d563",
   "metadata": {},
   "outputs": [],
   "source": [
    "y_test.mean()"
   ]
  },
  {
   "cell_type": "markdown",
   "id": "856dffa0-ab19-4e2a-bbee-4c47ea4f65d6",
   "metadata": {},
   "source": [
    "# Explaining the Decision Trees model  "
   ]
  },
  {
   "cell_type": "code",
   "execution_count": null,
   "id": "afb922f0-7ff7-49b1-88fc-de2f07bca3cf",
   "metadata": {},
   "outputs": [],
   "source": [
    "fig = plt.figure(figsize=(50,40))\n",
    "_ = tree.plot_tree(model_2, feature_names=X.columns, class_names=y.unique, filled=True, \n",
    "                   fontsize=16)\n"
   ]
  },
  {
   "cell_type": "markdown",
   "id": "b05859bd-aabe-4815-ba09-0809408a0eb8",
   "metadata": {},
   "source": [
    "# Explaining SVR model with shap model "
   ]
  },
  {
   "cell_type": "code",
   "execution_count": null,
   "id": "e9a652a5-e25d-427c-8af5-834be3b23a32",
   "metadata": {},
   "outputs": [],
   "source": [
    "explainer_model_3 = shap.KernelExplainer(model_3.predict,x_test)"
   ]
  },
  {
   "cell_type": "code",
   "execution_count": null,
   "id": "10d098ba-04f0-46dc-ab64-a5110fdb3b62",
   "metadata": {},
   "outputs": [],
   "source": [
    "base_value_3 = explainer_model_3.expected_value\n",
    "base_value_3"
   ]
  },
  {
   "cell_type": "code",
   "execution_count": null,
   "id": "cd6a4e11-ffa9-4310-8661-3283e99d1777",
   "metadata": {},
   "outputs": [],
   "source": [
    "shap_value_3 = explainer_model_3.shap_values(x_test)"
   ]
  },
  {
   "cell_type": "code",
   "execution_count": null,
   "id": "15eef3fc-8b74-416e-8a74-70f189a889a4",
   "metadata": {},
   "outputs": [],
   "source": [
    "shap.summary_plot(shap_value_3, x_test)"
   ]
  },
  {
   "cell_type": "markdown",
   "id": "9177c7a9-cb09-49cc-a1d3-0fc365729491",
   "metadata": {},
   "source": [
    "# Building of sequential layer "
   ]
  },
  {
   "cell_type": "code",
   "execution_count": null,
   "id": "f989d174-4925-4499-9c61-0109b4a31637",
   "metadata": {},
   "outputs": [],
   "source": [
    "ann = Sequential()                          \n",
    "ann.add(Dense(50,input_shape=(25,), activation='relu'))  \n",
    "ann.add(Dense(units=10, activation=\"relu\"))  \n",
    "ann.add(Dense(units=5, activation='tanh'))\n",
    "ann.add(Dense(units=25))   \n",
    "ann.compile(optimizer=\"adam\",loss=\"mean_squared_error\")"
   ]
  },
  {
   "cell_type": "code",
   "execution_count": null,
   "id": "5e75a834-5a43-4b5a-ae4f-68cd51ccc842",
   "metadata": {},
   "outputs": [],
   "source": [
    "ann.fit(x=x_train, y=y_train, epochs=15, batch_size=5,validation_data=(x_test,y_test))"
   ]
  },
  {
   "cell_type": "code",
   "execution_count": null,
   "id": "97a146e8-7e94-4ccf-8cbf-a4c4a1e01488",
   "metadata": {},
   "outputs": [],
   "source": [
    "plt.style.use(\"ggplot\")\n",
    "pd.DataFrame(ann.history.history).plot(figsize=(12,10))\n",
    "print(pd.DataFrame(ann.history.history))"
   ]
  },
  {
   "cell_type": "code",
   "execution_count": null,
   "id": "938d6daa-6b29-442f-80ef-9b6140894a0e",
   "metadata": {},
   "outputs": [],
   "source": [
    "ann.evaluate(x_train,y_train)"
   ]
  },
  {
   "cell_type": "code",
   "execution_count": null,
   "id": "4ba5de88-2565-4950-9c18-6468fa9da78c",
   "metadata": {},
   "outputs": [],
   "source": [
    "ann.evaluate(x_test,y_test)"
   ]
  },
  {
   "cell_type": "code",
   "execution_count": null,
   "id": "ec33e1ef-c142-4589-b20f-d2ec3ebc4e58",
   "metadata": {},
   "outputs": [],
   "source": [
    "predictions = ann.predict(x_test).sum(axis=1)"
   ]
  },
  {
   "cell_type": "code",
   "execution_count": null,
   "id": "3298d793-7040-403a-8d66-c10eb08b9550",
   "metadata": {},
   "outputs": [],
   "source": [
    "print(ann.history.history)"
   ]
  },
  {
   "cell_type": "markdown",
   "id": "feb3c810-8bfd-4cfd-8ad6-a0d6fbb30468",
   "metadata": {},
   "source": [
    "# metrics to see how good the model perform \n",
    "the lower the metric the better the prediction"
   ]
  },
  {
   "cell_type": "code",
   "execution_count": null,
   "id": "83a18cd1-b975-4876-b93b-880a83f00928",
   "metadata": {},
   "outputs": [],
   "source": [
    "print(\"MAE:\",mean_absolute_error(y_test,predictions))\n",
    "print (\"MSE:\",mean_squared_error(y_test,predictions))\n",
    "print(\"RMSE:\",np.sqrt(mean_squared_error(y_test,predictions)))"
   ]
  },
  {
   "cell_type": "markdown",
   "id": "e12c7b39-97e3-4f65-a473-4d99ce880ed8",
   "metadata": {},
   "source": [
    "# Ploting of graph between Actual Values and Predictions on ANN Model"
   ]
  },
  {
   "cell_type": "code",
   "execution_count": null,
   "id": "01253aec-12b1-4de7-bc8a-007a15ad4a4e",
   "metadata": {},
   "outputs": [],
   "source": [
    "plt.figure(figsize=(12,10))\n",
    "sns.scatterplot(np.ravel(predictions),y_test)\n",
    "plt.title(\"The Scatterplot of Relationship between Actual Values and Predictions\")\n",
    "plt.xlabel(\"Predictions\")\n",
    "plt.ylabel(\"Actual Values\")"
   ]
  },
  {
   "cell_type": "code",
   "execution_count": null,
   "id": "f3d4852c-9724-4fbc-b422-f517df0be934",
   "metadata": {},
   "outputs": [],
   "source": []
  },
  {
   "cell_type": "code",
   "execution_count": null,
   "id": "f93463e5-b106-4b4e-a346-33b849cca107",
   "metadata": {},
   "outputs": [],
   "source": []
  },
  {
   "cell_type": "code",
   "execution_count": null,
   "id": "5e8b7b7a-f542-49d8-8e79-8645779a10aa",
   "metadata": {},
   "outputs": [],
   "source": []
  },
  {
   "cell_type": "code",
   "execution_count": null,
   "id": "e1cf033f-db2f-4c84-8ead-fab8e6d569b5",
   "metadata": {},
   "outputs": [],
   "source": [
    "\n",
    "\n"
   ]
  },
  {
   "cell_type": "code",
   "execution_count": null,
   "id": "3ae22a8c-fe79-47e2-8863-426801b231e8",
   "metadata": {},
   "outputs": [],
   "source": []
  }
 ],
 "metadata": {
  "kernelspec": {
   "display_name": "Python 3 (ipykernel)",
   "language": "python",
   "name": "python3"
  },
  "language_info": {
   "codemirror_mode": {
    "name": "ipython",
    "version": 3
   },
   "file_extension": ".py",
   "mimetype": "text/x-python",
   "name": "python",
   "nbconvert_exporter": "python",
   "pygments_lexer": "ipython3",
   "version": "3.9.13"
  }
 },
 "nbformat": 4,
 "nbformat_minor": 5
}
